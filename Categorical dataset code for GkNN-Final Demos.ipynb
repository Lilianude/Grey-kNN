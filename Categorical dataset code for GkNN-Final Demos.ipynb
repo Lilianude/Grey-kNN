{
 "cells": [
  {
   "cell_type": "code",
   "execution_count": 21,
   "id": "88ea5ddc",
   "metadata": {},
   "outputs": [],
   "source": [
    "import pandas as pd\n",
    "import numpy as np\n",
    "import random as rnd\n",
    "import os\n",
    "from sklearn import preprocessing"
   ]
  },
  {
   "cell_type": "code",
   "execution_count": 22,
   "id": "6ce7afca",
   "metadata": {},
   "outputs": [],
   "source": [
    "## Fill missing values with mean/mode\n",
    "\n",
    "from sklearn.base import TransformerMixin\n",
    "\n",
    "class meanModeImputer(TransformerMixin):\n",
    "\n",
    "    def __init__(self):\n",
    "        pass\n",
    "        \n",
    "    def fit(self, X, y=None):\n",
    "\n",
    "        self.fill = pd.Series([X[c].value_counts().index[0]\n",
    "            if X[c].dtype == np.dtype('O') else X[c].mean() for c in X],\n",
    "            index=X.columns)\n",
    "\n",
    "        return self\n",
    "\n",
    "    def transform(self, X, y=None):\n",
    "        return X.fillna(self.fill)"
   ]
  },
  {
   "cell_type": "code",
   "execution_count": 23,
   "id": "51ecdf3f",
   "metadata": {},
   "outputs": [],
   "source": [
    "# GKnn Algorithm\n",
    "from numpy import mean\n",
    "from statistics import mode\n",
    "import time\n",
    "\n",
    "def GKnn(impute_df):\n",
    "    \n",
    "    for i in range(len(empty_loc_cols)-1):\n",
    "\n",
    "        ## Differentiate numerical and categorical data\n",
    "        numerical_cols = impute_df._get_numeric_data().columns #fetches just the numeric columns\n",
    "        cols = impute_df.columns                                 # entire columns in dataset\n",
    "        categorical_cols = list(set(cols) - set(numerical_cols)) # gives us just the categorical columns\n",
    "        num_df = impute_df.loc[:,numerical_cols]                 #locates all rows in numerical dataframe column by their labels\n",
    "        cat_df = impute_df.loc[:,categorical_cols]               #locates all columns in categorical dataframe column by their labels\n",
    "        \n",
    "        \n",
    "        num_ck=num_df.iloc[empty_loc_cols[i],:]                  # gets the location/index of emptyelements in a numeric DF\n",
    "        maxIter = 2\n",
    "        num_cp=num_df.copy()\n",
    "        num_cp.drop([i + 1], axis = 0)                           #dropping adjacent emptyrows on indexing for numerical dataset to avoid duplication\n",
    "\n",
    "        cat_ck=cat_df.iloc[empty_loc_cols[i],:]                  # gets the location/index of empty elements in a categorical DF\n",
    "        cat_cp=cat_df.copy()\n",
    "        cat_cp.drop([i + 1], axis = 0)                           # dropping adjacent emptyrows on indexing for categorical dataset to avoid duplictaion\n",
    "        \n",
    "        \n",
    "        def greyRelationalGrade(impute_df):\n",
    "           \n",
    "            t1=pd.DataFrame() #initializing a dataframe\n",
    "            t2=pd.DataFrame(data = None, columns=cat_cp.columns, index=cat_cp.index) #has the shape of the cat_cp dataframe\n",
    "            \n",
    "            for j in range(num_cp.index.size):\n",
    "                temp=pd.Series(num_cp.iloc[j,:]-num_ck)\n",
    "                t1=t1.append(temp,ignore_index=True)\n",
    "                \n",
    "                if(cat_cp.iloc[j,:].equals(cat_ck)):\n",
    "                    t2.iloc[j,:] = 1\n",
    "                else:\n",
    "                    t2.iloc[j,:] = 0\n",
    "\n",
    "            t1.reset_index(drop=True, inplace=True)\n",
    "            t2.reset_index(drop=True, inplace=True)\n",
    "            t = pd.concat([t1, t2], axis=1)\n",
    "\n",
    "                \n",
    "            mmax=t.abs().max().max()\n",
    "            mmin=t.abs().min().min()\n",
    "            rho=0.5\n",
    "\n",
    "            # Computing grey correlation coefficient\n",
    "            GRC=((mmin+rho*mmax)/(abs(t)+rho*mmax))\n",
    "\n",
    "            # Computing the GRG and getting the rank\n",
    "            GRG=GRC.sum(axis=1)/GRC.columns.size\n",
    "            GRGSort = GRG.sort_values(ascending= False)\n",
    "            \n",
    "            return GRGSort\n",
    "        \n",
    "        count = 0\n",
    "        previous = pd.DataFrame(data=incomplete_df.iloc[empty_loc_cols])\n",
    "        prev = previous.mean().sum()\n",
    "        for j in range(len(empty_loc[0])-1):\n",
    "            startTime = time.time()\n",
    "            result= greyRelationalGrade(impute_df)\n",
    "            resultSorted = result.sort_values(ascending = False)\n",
    "            neighbours =  resultSorted.iloc[0:7].index\n",
    "            # find the most count of the values at this index of these instances\n",
    "            values  = impute_df.iloc[neighbours]\n",
    "            num_neigh = values._get_numeric_data().columns\n",
    "            cat_neigh = list(set(values) - set(num_neigh))\n",
    "            num_neigh_cols = values.loc[:, num_neigh]\n",
    "            cat_neigh_cols = values.loc[:,cat_neigh] \n",
    "            nMode = cat_neigh_cols.value_counts().index[1]\n",
    "            #imputation using k nearest neighbor instances\n",
    "            if(empty_loc_cols[i] == empty_loc[0][j]):\n",
    "                impute_df.iloc[empty_loc[i][j]] = nMode[(len(empty_loc_col)-1)]\n",
    "\n",
    "            count += 1      \n",
    "            endTime = time.time()\n",
    "            tol = 10e-4     \n",
    "            ## convergence criteria\n",
    "            if count >= maxIter or abs(impute_df.iloc[empty_loc_cols].mean().sum() - prev) < tol  : \n",
    "                break\n",
    "            prev = impute_df.iloc[empty_loc_cols].mean().sum()\n",
    "        \n",
    "            \n",
    "    return impute_df"
   ]
  },
  {
   "cell_type": "code",
   "execution_count": 24,
   "id": "95ed40a0",
   "metadata": {},
   "outputs": [],
   "source": [
    "## import xlsx files as pandas dataframe\n",
    "pathIncomplete = '/Users/lilianude/Documents/UDE LILIAN/GENG 8900 Data Mining/Datasets/Incomplete Datasets Without Labels/Final Demo Cat'\n",
    "complete_df = pd.read_excel('/Users/lilianude/Documents/UDE LILIAN/GENG 8900 Data Mining/Datasets/Original Datasets Without Labels/TTTTEG.xlsx', header = None)\n",
    "incomplete_df_name_list = []\n",
    "incomplete_df_list = []\n",
    "for filename in os.listdir(pathIncomplete):\n",
    "    if filename.endswith('.xlsx'):\n",
    "        incomplete_df_list.append(pd.read_excel(pathIncomplete+\"/\"+filename, header=None))\n",
    "        incomplete_df_name_list.append(filename.split(\".\")[0])"
   ]
  },
  {
   "cell_type": "code",
   "execution_count": 25,
   "id": "98c55628",
   "metadata": {},
   "outputs": [
    {
     "data": {
      "text/plain": [
       "['TTTTEG_AW_10.xlsx', 'TTTTEG_C_5.xlsx']"
      ]
     },
     "execution_count": 25,
     "metadata": {},
     "output_type": "execute_result"
    }
   ],
   "source": [
    "os.listdir(pathIncomplete)"
   ]
  },
  {
   "cell_type": "code",
   "execution_count": 26,
   "id": "aa227053",
   "metadata": {},
   "outputs": [
    {
     "data": {
      "text/plain": [
       "{'TTTTEG_AW_10': 0.9458362328926003, 'TTTTEG_C_5': 0.9715843191834841}"
      ]
     },
     "execution_count": 26,
     "metadata": {},
     "output_type": "execute_result"
    }
   ],
   "source": [
    "#Using AE since it is Categorical\n",
    "imputed_df_list = []\n",
    "ae_data = {}\n",
    "index = 0\n",
    "for incomplete_df in incomplete_df_list:\n",
    "\n",
    "    incomplete_df.reset_index()\n",
    "    complete_df.reset_index()\n",
    "    \n",
    "    complete_df.columns=[\"Col\"+str(i) for i in range(complete_df.shape[1])] #added header to the columns\n",
    "    incomplete_df.columns=[\"Col\"+str(i) for i in range(incomplete_df.shape[1])] #added header to the columns\n",
    "    \n",
    "    ## find empty locations\n",
    "    empty_loc = np.where(pd.isnull(incomplete_df))\n",
    "    empty_loc_cols = np.unique(empty_loc[0])\n",
    "    empty_loc_col = np.unique(empty_loc[1])\n",
    "    \n",
    "    ## Replace NaN values with mean/mode values\n",
    "    incomplete_df = meanModeImputer().fit_transform(incomplete_df)\n",
    "    \n",
    "    ## GkNN\n",
    "    imputed_df = GKnn(incomplete_df)\n",
    "    \n",
    "    ## Compute AE\n",
    "    imputed_ae = 0;\n",
    "    for x in range(len(empty_loc[0]) - 1):\n",
    "        if(imputed_df.iloc[empty_loc[0][x], empty_loc[1][x]] == complete_df.iloc[empty_loc[0][x], empty_loc[1][x]]):\n",
    "            imputed_ae+=1\n",
    "    AE = (complete_df.size - len(empty_loc[0]) + imputed_ae) / complete_df.size\n",
    "    ae_data.update( {incomplete_df_name_list[index]: AE} )\n",
    "    \n",
    "    \n",
    "    imputed_df_list.append(imputed_df)\n",
    "    index+=1\n",
    "ae_data\n"
   ]
  },
  {
   "cell_type": "code",
   "execution_count": 27,
   "id": "7735eccd",
   "metadata": {},
   "outputs": [],
   "source": [
    "#save imputed dataframes to xlsx\n",
    "index = 0\n",
    "for df in imputed_df_list:\n",
    "    df.to_excel(\"/Users/lilianude/Documents/UDE LILIAN/GENG 8900 Data Mining/Datasets/Graph/HOV_K7/\"+incomplete_df_name_list[index]+\".xlsx\")\n",
    "    index+=1"
   ]
  },
  {
   "cell_type": "code",
   "execution_count": 28,
   "id": "a01aade7",
   "metadata": {},
   "outputs": [],
   "source": [
    "# Download Dictionary as csv file\n",
    "import csv\n",
    "with open('/Users/lilianude/Documents/UDE LILIAN/GENG 8900 Data Mining/Datasets/Graph/NRMS_AE/HOV_K7.csv', 'w') as csv_file:  \n",
    "    writeTo = csv.writer(csv_file)\n",
    "    for key, value in ae_data.items():\n",
    "        writeTo.writerow([key, value])"
   ]
  },
  {
   "cell_type": "code",
   "execution_count": 29,
   "id": "8261ba70",
   "metadata": {},
   "outputs": [
    {
     "data": {
      "text/plain": [
       "{'TTTTEG_AW_10': 0.9458362328926003, 'TTTTEG_C_5': 0.9715843191834841}"
      ]
     },
     "execution_count": 29,
     "metadata": {},
     "output_type": "execute_result"
    }
   ],
   "source": [
    "ae_data"
   ]
  },
  {
   "cell_type": "code",
   "execution_count": 30,
   "id": "be06fbea",
   "metadata": {},
   "outputs": [
    {
     "data": {
      "text/plain": [
       "[    Col0 Col1 Col2 Col3 Col4 Col5 Col6 Col7 Col8\n",
       " 0      x    x    x    x    o    o    x    o    o\n",
       " 1      x    x    x    x    x    x    x    x    x\n",
       " 2      x    x    x    x    x    x    o    o    x\n",
       " 3      x    x    x    x    x    x    o    b    b\n",
       " 4      x    x    x    x    x    o    x    o    x\n",
       " ..   ...  ...  ...  ...  ...  ...  ...  ...  ...\n",
       " 953    o    x    x    x    o    o    o    x    x\n",
       " 954    o    x    o    x    x    o    x    o    x\n",
       " 955    x    x    o    x    x    x    x    o    x\n",
       " 956    o    x    o    o    x    x    x    o    x\n",
       " 957    o    o    x    x    x    o    o    x    x\n",
       " \n",
       " [958 rows x 9 columns],\n",
       "     Col0 Col1 Col2 Col3 Col4 Col5 Col6 Col7 Col8\n",
       " 0      x    x    x    x    x    x    x    x    x\n",
       " 1      x    x    x    x    o    o    o    x    o\n",
       " 2      x    x    x    x    o    o    o    o    x\n",
       " 3      x    x    x    x    o    o    o    b    b\n",
       " 4      x    x    x    x    o    o    b    o    b\n",
       " ..   ...  ...  ...  ...  ...  ...  ...  ...  ...\n",
       " 953    o    x    x    x    o    o    o    x    x\n",
       " 954    o    x    o    x    x    o    x    o    x\n",
       " 955    o    x    o    x    o    x    x    x    x\n",
       " 956    o    x    o    o    x    x    x    o    x\n",
       " 957    o    o    x    x    x    o    x    x    x\n",
       " \n",
       " [958 rows x 9 columns]]"
      ]
     },
     "execution_count": 30,
     "metadata": {},
     "output_type": "execute_result"
    }
   ],
   "source": [
    "imputed_df_list"
   ]
  }
 ],
 "metadata": {
  "kernelspec": {
   "display_name": "Python 3",
   "language": "python",
   "name": "python3"
  },
  "language_info": {
   "codemirror_mode": {
    "name": "ipython",
    "version": 3
   },
   "file_extension": ".py",
   "mimetype": "text/x-python",
   "name": "python",
   "nbconvert_exporter": "python",
   "pygments_lexer": "ipython3",
   "version": "3.8.8"
  }
 },
 "nbformat": 4,
 "nbformat_minor": 5
}
